{
  "nbformat": 4,
  "nbformat_minor": 0,
  "metadata": {
    "colab": {
      "provenance": []
    },
    "kernelspec": {
      "name": "python3",
      "display_name": "Python 3"
    },
    "language_info": {
      "name": "python"
    }
  },
  "cells": [
    {
      "cell_type": "code",
      "execution_count": null,
      "metadata": {
        "id": "QEqKg7DUmqrQ"
      },
      "outputs": [],
      "source": [
        "import inspect\n",
        "from scipy.linalg import hadamard\n",
        "\n",
        "class ANF():\n",
        "  def __init__(self, f):\n",
        "    self.n = inspect.signature(f)\n",
        "\n",
        "\n",
        "#def f_to_ANF():\n"
      ]
    }
  ]
}